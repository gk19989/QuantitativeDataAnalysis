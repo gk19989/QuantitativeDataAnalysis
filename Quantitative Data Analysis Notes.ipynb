{
 "cells": [
  {
   "cell_type": "markdown",
   "metadata": {},
   "source": [
    "# Quantitative Data Analysis"
   ]
  },
  {
   "cell_type": "markdown",
   "metadata": {},
   "source": [
    "## Quantitative Research Process"
   ]
  },
  {
   "cell_type": "markdown",
   "metadata": {},
   "source": [
    "There are __five__ steps in Quantitative Research.\n",
    "1. __Develop the Reaserch Question__:\n",
    "> Before doing a Quantitative Research you should have a well-defined research question. This is done by literature review and looking into alternate theories.\n",
    "2. __Develop a Research Hypothesis__:\n",
    "> This is the step where Quantitative Research differs from Qualitative Research. Hypothesis is a primise or un-proven theory claimed by the researcher even before starting the data gathering.\n",
    "3. __Selection of Research Design__:\n",
    "> The selection of Research Design is not done by choice, but it depends on variables and the research question. There are four different research designs.\n",
    ">> 1. Discriptive Research Design\n",
    ">> 2. Corelational Research Design\n",
    ">> 3. Quasi Research Design\n",
    ">> 4. Experimental Research Design\n",
    "4. __Selection of Population & Sample and Data Gathereing__:\n",
    "> Population is the entire group that you want to draw conclusions about, while sample is the smaller group of individuals you'll actually collect data from.\n",
    "5. __Data Analysis and Interpretation__:\n",
    "> Here you'll conduct the data analysis "
   ]
  },
  {
   "cell_type": "code",
   "execution_count": null,
   "metadata": {},
   "outputs": [],
   "source": []
  }
 ],
 "metadata": {
  "kernelspec": {
   "display_name": "Python 3",
   "language": "python",
   "name": "python3"
  },
  "language_info": {
   "codemirror_mode": {
    "name": "ipython",
    "version": 3
   },
   "file_extension": ".py",
   "mimetype": "text/x-python",
   "name": "python",
   "nbconvert_exporter": "python",
   "pygments_lexer": "ipython3",
   "version": "3.7.6"
  }
 },
 "nbformat": 4,
 "nbformat_minor": 4
}
